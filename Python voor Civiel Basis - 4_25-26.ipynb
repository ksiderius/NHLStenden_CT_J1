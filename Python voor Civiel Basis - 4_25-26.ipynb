{
 "cells": [
  {
   "cell_type": "markdown",
   "metadata": {},
   "source": [
    "<figure>\n",
    "  <IMG SRC=\"https://dataexcellence.nl/wp-content/uploads/2019/01/NHL-Hogeschool-tile.png\" width=160 ALIGN=\"right\">\n",
    "</figure>\n",
    "<figure>    \n",
    "    <IMG SRC=\"https://logodownload.org/wp-content/uploads/2019/10/python-logo-2.png\" width=80 ALIGN=\"right\">\n",
    "</figure>\n",
    "\n",
    "\n",
    "# Python voor Civiel Basis - 4\n",
    "*Ontwikkeld door Freark van der Sluis*\n",
    "\n",
    "\n",
    "## Import data files\n",
    "Er wordt heel veel data verzameld en opgelagen in verschillende formats. Met Python kun je verschillende datasets op verschillende manieren inlezen en bewerken en weer data terugschrijven in datafiles. In deze cursus maken we hier kennis mee. We maken weer gebruik van Numpy, Matplotlib en we gebruiken ook een nieuwe package namelijk Panda's. De packages worden hieronder geladen."
   ]
  },
  {
   "cell_type": "code",
   "execution_count": 4,
   "metadata": {},
   "outputs": [
    {
     "name": "stdout",
     "output_type": "stream",
     "text": [
      "['Solarize_Light2', '_classic_test_patch', '_mpl-gallery', '_mpl-gallery-nogrid', 'bmh', 'classic', 'dark_background', 'fast', 'fivethirtyeight', 'ggplot', 'grayscale', 'seaborn-v0_8', 'seaborn-v0_8-bright', 'seaborn-v0_8-colorblind', 'seaborn-v0_8-dark', 'seaborn-v0_8-dark-palette', 'seaborn-v0_8-darkgrid', 'seaborn-v0_8-deep', 'seaborn-v0_8-muted', 'seaborn-v0_8-notebook', 'seaborn-v0_8-paper', 'seaborn-v0_8-pastel', 'seaborn-v0_8-poster', 'seaborn-v0_8-talk', 'seaborn-v0_8-ticks', 'seaborn-v0_8-white', 'seaborn-v0_8-whitegrid', 'tableau-colorblind10']\n"
     ]
    }
   ],
   "source": [
    "import matplotlib.pyplot as plt\n",
    "import numpy as np\n",
    "import pandas as pd\n",
    "    # andere plotstyles kun je vinden op : https://matplotlib.org/gallery/style_sheets/style_sheets_reference.html\n",
    "\n",
    "plotstyles = plt.style.available #Door dit commando worden alle beschikbare plotstyles in een lijst weergegeven\n",
    "print(plotstyles) \n",
    "\n",
    "plt.style.use(plotstyles[11]) #Door dit commando wordt het plotstyle 11 (seaborn-v0_8) geactiveerd"
   ]
  },
  {
   "cell_type": "markdown",
   "metadata": {},
   "source": [
    "In de root waar ook de notebooks staan staat een file studentresultaten.txt. Onderstaand wordt het bestand geopend, de regels gelezen en geprint in een list of dataframe (df). []"
   ]
  },
  {
   "cell_type": "code",
   "execution_count": 6,
   "metadata": {},
   "outputs": [
    {
     "name": "stdout",
     "output_type": "stream",
     "text": [
      "['Naam,resultaat\\n', 'Naam1,8\\n', 'Naam2,7\\n', 'Naam3,4\\n', 'Naam4,6\\n', 'Naam5,999999\\n', 'Naam6,4\\n', 'Naam7,5\\n', 'Naam8,9\\n', 'Naam9,6\\n', 'Naam10,4']\n"
     ]
    }
   ],
   "source": [
    "df = open(\"studentresultaten.txt\",\"r\") \n",
    "results = df.readlines()\n",
    "print (results)\n",
    "df.close()"
   ]
  },
  {
   "cell_type": "markdown",
   "metadata": {},
   "source": [
    "Dit geeft een onoverzichtelijke weergave van de lijst namen met resultaten. De package Pandas heeft hier mooie functies voor. Hier gaan we nu mee verder. Pandas is in de eerste regel geimporteerd als pd. met pd.*** kun je de functies oproepen. <a href=\"https://pandas.pydata.org/pandas-docs/stable/getting_started/10min.html\">Hier</a> vind je meer informatie over de package en de functies die je kunt gebruiken. Een aantal zullen we in deze cursus behandelen."
   ]
  },
  {
   "cell_type": "code",
   "execution_count": 47,
   "metadata": {},
   "outputs": [
    {
     "name": "stdout",
     "output_type": "stream",
     "text": [
      "     Naam  resultaat\n",
      "0   Naam1          8\n",
      "1   Naam2          7\n",
      "2   Naam3          4\n",
      "3   Naam4          6\n",
      "4   Naam5     999999\n",
      "5   Naam6          4\n",
      "6   Naam7          5\n",
      "7   Naam8          9\n",
      "8   Naam9          6\n",
      "9  Naam10          4\n",
      "(10, 2)\n"
     ]
    }
   ],
   "source": [
    "# inlezen van de dataframe doe je met pd.read\n",
    "df = pd.read_csv(\"studentresultaten.txt\")\n",
    "\n",
    "#met .print visualiseer je de dataframe\n",
    "print (df.head(10))\n",
    "\n",
    "# met .shape geef je de vorm van de dataframe weer.\n",
    "print (df.shape)"
   ]
  },
  {
   "cell_type": "code",
   "execution_count": 50,
   "metadata": {},
   "outputs": [
    {
     "data": {
      "text/plain": [
       "Naam         object\n",
       "resultaat     int64\n",
       "dtype: object"
      ]
     },
     "execution_count": 50,
     "metadata": {},
     "output_type": "execute_result"
    }
   ],
   "source": [
    "df.dtypes"
   ]
  },
  {
   "cell_type": "code",
   "execution_count": 51,
   "metadata": {},
   "outputs": [
    {
     "name": "stdout",
     "output_type": "stream",
     "text": [
      "100005.2\n"
     ]
    }
   ],
   "source": [
    "# Met de resultaten kunnen nu bewerkingen worden gedaan.\n",
    "a = df['resultaat'].mean()\n",
    "#b = np.mean(a)\n",
    "print(a)\n"
   ]
  },
  {
   "cell_type": "markdown",
   "metadata": {},
   "source": [
    "Het is misschien opgevallen dat er een vreemd resultaat in de reeks zit. Dit is zeer gebruikelijk bij automatisch ingewonnen data. Het is zinvol om data te filteren van onbruikbare data. Onderstaand wordt data die niet voldoet aan de verwachting verwijderd uit de data."
   ]
  },
  {
   "cell_type": "code",
   "execution_count": 52,
   "metadata": {},
   "outputs": [
    {
     "name": "stdout",
     "output_type": "stream",
     "text": [
      "     Naam  resultaat\n",
      "0   Naam1          8\n",
      "1   Naam2          7\n",
      "2   Naam3          4\n",
      "3   Naam4          6\n",
      "5   Naam6          4\n",
      "6   Naam7          5\n",
      "7   Naam8          9\n",
      "8   Naam9          6\n",
      "9  Naam10          4\n",
      "5.888888888888889\n"
     ]
    }
   ],
   "source": [
    "#met .drop filter je uit de data uit de kolom [' '] de waardes die niet aan het criterium voldoen.\n",
    "df.drop(df[df['resultaat'] >= 999999].index, inplace = True) \n",
    "\n",
    "print(df.head(15)) \n",
    "\n",
    "#het gemiddelde van de cijfers geven nu een realistische waarde.\n",
    "#a = np.mean(df, axis=1)\n",
    "b = df['resultaat'].mean()\n",
    "print(b)"
   ]
  },
  {
   "cell_type": "markdown",
   "metadata": {},
   "source": [
    "Deze gefilterde data slaan we nu op als nieuw txt file."
   ]
  },
  {
   "cell_type": "code",
   "execution_count": 53,
   "metadata": {},
   "outputs": [],
   "source": [
    "df.to_csv(\"studentresultaten_nieuw.txt\",index=False)"
   ]
  },
  {
   "cell_type": "code",
   "execution_count": 67,
   "metadata": {},
   "outputs": [
    {
     "data": {
      "text/plain": [
       "(array([3., 0., 1., 0., 2., 0., 1., 0., 1., 0., 1.]),\n",
       " array([4.        , 4.45454545, 4.90909091, 5.36363636, 5.81818182,\n",
       "        6.27272727, 6.72727273, 7.18181818, 7.63636364, 8.09090909,\n",
       "        8.54545455, 9.        ]),\n",
       " <BarContainer object of 11 artists>)"
      ]
     },
     "execution_count": 67,
     "metadata": {},
     "output_type": "execute_result"
    },
    {
     "data": {
      "image/png": "[encoded data removed]",
      "text/plain": [
       "<Figure size 800x550 with 1 Axes>"
      ]
     },
     "metadata": {},
     "output_type": "display_data"
    }
   ],
   "source": [
    "plt.hist(df['resultaat'], bins=11) # je kan de resultaten ook handig plotten in bijvoorbeeld een histogram"
   ]
  },
  {
   "cell_type": "markdown",
   "metadata": {},
   "source": [
    "OPDRACHT: Voeg nu zelf de titels van de assen toe"
   ]
  },
  {
   "cell_type": "code",
   "execution_count": null,
   "metadata": {},
   "outputs": [],
   "source": []
  },
  {
   "cell_type": "markdown",
   "metadata": {},
   "source": [
    "Het is van belang dat de ingelezen data een structuur heeft in dit geval een structuur waarbij kolommen zijn gescheiden door ',' en rijen door een enter \\n. In bovenstaande is een txt file ingeladen. In de root staat ook een file gedownload van waterinfo.rws.nl van de waterstanden bij Kornwerderzand. NVT_WATHTE_KOBU.csv Onderstaand wordt dit bestand ingelezen."
   ]
  },
  {
   "cell_type": "code",
   "execution_count": 54,
   "metadata": {},
   "outputs": [],
   "source": [
    "file = pd.read_csv(\"NVT_WATHTE_KOBU.csv\",sep = \";\", usecols=['Datum','Tijd','Meting'], parse_dates=['Datum'])"
   ]
  },
  {
   "cell_type": "code",
   "execution_count": 55,
   "metadata": {},
   "outputs": [
    {
     "data": {
      "text/html": [
       "<div>\n",
       "<style scoped>\n",
       "    .dataframe tbody tr th:only-of-type {\n",
       "        vertical-align: middle;\n",
       "    }\n",
       "\n",
       "    .dataframe tbody tr th {\n",
       "        vertical-align: top;\n",
       "    }\n",
       "\n",
       "    .dataframe thead th {\n",
       "        text-align: right;\n",
       "    }\n",
       "</style>\n",
       "<table border=\"1\" class=\"dataframe\">\n",
       "  <thead>\n",
       "    <tr style=\"text-align: right;\">\n",
       "      <th></th>\n",
       "      <th>Datum</th>\n",
       "      <th>Tijd</th>\n",
       "      <th>Meting</th>\n",
       "    </tr>\n",
       "  </thead>\n",
       "  <tbody>\n",
       "    <tr>\n",
       "      <th>0</th>\n",
       "      <td>11-6-2019</td>\n",
       "      <td>11:50:00</td>\n",
       "      <td>-35.0</td>\n",
       "    </tr>\n",
       "    <tr>\n",
       "      <th>1</th>\n",
       "      <td>11-6-2019</td>\n",
       "      <td>12:00:00</td>\n",
       "      <td>-27.0</td>\n",
       "    </tr>\n",
       "    <tr>\n",
       "      <th>2</th>\n",
       "      <td>11-6-2019</td>\n",
       "      <td>12:10:00</td>\n",
       "      <td>-20.0</td>\n",
       "    </tr>\n",
       "    <tr>\n",
       "      <th>3</th>\n",
       "      <td>11-6-2019</td>\n",
       "      <td>12:20:00</td>\n",
       "      <td>-10.0</td>\n",
       "    </tr>\n",
       "    <tr>\n",
       "      <th>4</th>\n",
       "      <td>11-6-2019</td>\n",
       "      <td>12:30:00</td>\n",
       "      <td>-1.0</td>\n",
       "    </tr>\n",
       "  </tbody>\n",
       "</table>\n",
       "</div>"
      ],
      "text/plain": [
       "       Datum      Tijd  Meting\n",
       "0  11-6-2019  11:50:00   -35.0\n",
       "1  11-6-2019  12:00:00   -27.0\n",
       "2  11-6-2019  12:10:00   -20.0\n",
       "3  11-6-2019  12:20:00   -10.0\n",
       "4  11-6-2019  12:30:00    -1.0"
      ]
     },
     "execution_count": 55,
     "metadata": {},
     "output_type": "execute_result"
    }
   ],
   "source": [
    "file.head() # met file.head() worden de eerste 5 rijen van het bestand weergegeven. "
   ]
  },
  {
   "cell_type": "code",
   "execution_count": 56,
   "metadata": {},
   "outputs": [
    {
     "data": {
      "text/plain": [
       "Datum      object\n",
       "Tijd       object\n",
       "Meting    float64\n",
       "dtype: object"
      ]
     },
     "execution_count": 56,
     "metadata": {},
     "output_type": "execute_result"
    }
   ],
   "source": [
    "file.dtypes"
   ]
  },
  {
   "cell_type": "code",
   "execution_count": 58,
   "metadata": {},
   "outputs": [
    {
     "data": {
      "image/png": "[encoded data removed]",
      "text/plain": [
       "<Figure size 800x550 with 1 Axes>"
      ]
     },
     "metadata": {},
     "output_type": "display_data"
    }
   ],
   "source": [
    "file.plot(\"Tijd\",\"Meting\")\n",
    "\n",
    "plt.xlabel('tijd')\n",
    "plt.ylabel('cm tov NAP')\n",
    "plt.show()"
   ]
  },
  {
   "cell_type": "markdown",
   "metadata": {},
   "source": [
    "### Opdracht \n",
    "Ga zelf op zoek naar een datafile of genereer een datafile. Lees het in, waar nodig bewerk het bestand en visualiseer de data op een bruikbare manier. Voorwaarde is dat het een ander type bestand is als bovenstaande.\n",
    "\n",
    "BELANGRIJK: Als je een extern databestand gebruikt (csv of txt) lever deze dan samen met het .ipynb bestand in via de inleverlink op blackboard."
   ]
  },
  {
   "cell_type": "code",
   "execution_count": null,
   "metadata": {},
   "outputs": [],
   "source": []
  },
  {
   "cell_type": "code",
   "execution_count": null,
   "metadata": {},
   "outputs": [],
   "source": []
  }
 ],
 "metadata": {
  "kernelspec": {
   "display_name": "Python 3 (ipykernel)",
   "language": "python",
   "name": "python3"
  },
  "language_info": {
   "codemirror_mode": {
    "name": "ipython",
    "version": 3
   },
   "file_extension": ".py",
   "mimetype": "text/x-python",
   "name": "python",
   "nbconvert_exporter": "python",
   "pygments_lexer": "ipython3",
   "version": "3.12.4"
  }
 },
 "nbformat": 4,
 "nbformat_minor": 4
}
