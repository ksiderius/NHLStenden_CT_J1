{
 "cells": [
  {
   "cell_type": "markdown",
   "metadata": {},
   "source": [
    "<figure>\n",
    "  <IMG SRC=\"https://dataexcellence.nl/wp-content/uploads/2019/01/NHL-Hogeschool-tile.png\" width=160 ALIGN=\"right\">\n",
    "</figure>\n",
    "<figure>    \n",
    "    <IMG SRC=\"https://logodownload.org/wp-content/uploads/2019/10/python-logo-2.png\" width=80 ALIGN=\"right\">\n",
    "</figure>\n",
    "\n",
    "# Python voor Civiel Basis 2\n",
    "*Ontwikkeld door Freark van der Sluis*\n",
    "\n",
    "In deze 2e cursus gaan we de volgende onderwerpen behandelen:\n",
    "- functies\n",
    "- If else while for loops"
   ]
  },
  {
   "cell_type": "markdown",
   "metadata": {},
   "source": [
    "## Functies\n",
    "\n",
    "Functies kun je gebruiken om repeterende code te voorkomen. Een functie heeft een naam een bewerking en kan gebruik maken van enkele variabelen die de functie nodig heeft om output te leveren. Een functie wordt gedefinieerd door het def statement te gebruiken. "
   ]
  },
  {
   "cell_type": "code",
   "execution_count": 1,
   "metadata": {},
   "outputs": [],
   "source": [
    "def functie ():\n",
    "    print ('het werkt')"
   ]
  },
  {
   "cell_type": "markdown",
   "metadata": {},
   "source": [
    "De functie is nu gedefinieerd en in vervolgcode kan de functie opgeroepen worden door de naam te gebruiken afgesloten met ()."
   ]
  },
  {
   "cell_type": "code",
   "execution_count": 2,
   "metadata": {},
   "outputs": [
    {
     "name": "stdout",
     "output_type": "stream",
     "text": [
      "het werkt\n"
     ]
    }
   ],
   "source": [
    "functie()"
   ]
  },
  {
   "cell_type": "markdown",
   "metadata": {},
   "source": [
    "Nu kunnen we ook een functie met variabelen definieren, in het voorbeeld q en l."
   ]
  },
  {
   "cell_type": "code",
   "execution_count": 3,
   "metadata": {},
   "outputs": [],
   "source": [
    "def MaxMomentq (q,l):\n",
    "    MaxMomentq = q * l ** 2\n",
    "    return (MaxMomentq)"
   ]
  },
  {
   "cell_type": "markdown",
   "metadata": {},
   "source": [
    "De functie MaxMomentq is nu gedefinieerd en kun je nu met de naam en de variabelen aanroepen in verdere bewerkingen. Om de uitkomst te gebruiken buiten de functie moet er een return statement worden gedefinieerd wat moet worden 'terug' gegeven."
   ]
  },
  {
   "cell_type": "code",
   "execution_count": 4,
   "metadata": {},
   "outputs": [
    {
     "data": {
      "text/plain": [
       "function"
      ]
     },
     "execution_count": 4,
     "metadata": {},
     "output_type": "execute_result"
    }
   ],
   "source": [
    "MaxMomentq (10,5) \n",
    "type(MaxMomentq)"
   ]
  },
  {
   "cell_type": "markdown",
   "metadata": {},
   "source": [
    "Wees alert op de naamgeving bij het definieren van functies en het overschrijven van standaard gedefinieerde functies.\n",
    "\n",
    "Als je bijvoorbeeldonderstaande functie definieerd wordt de 'standaard print functie in Python overschreven. : <br>\n",
    "\n",
    "def print (): <br>\n",
    "<pre>show(Q) <br> </pre>  "
   ]
  },
  {
   "cell_type": "markdown",
   "metadata": {},
   "source": [
    "### Opdracht\n",
    "Definieer zelf een werkende functie voor het berekenen van bijvoorbeeld de kinetische energie. "
   ]
  },
  {
   "cell_type": "code",
   "execution_count": null,
   "metadata": {},
   "outputs": [],
   "source": []
  },
  {
   "cell_type": "markdown",
   "metadata": {},
   "source": [
    "## If statement\n",
    "Het if statement kun je geburiken om in een script onder voorwaarden door te gaan met een specifieke waarde. Dit kan goed gebruikt worden in de toetsing van bijvoorbeeld een moment. Hiervoor definieren we op basis van de functie MaxMomentq eerst een variabele die we toetsen aan een voorwaarde Mtoel."
   ]
  },
  {
   "cell_type": "code",
   "execution_count": 5,
   "metadata": {},
   "outputs": [
    {
     "name": "stdout",
     "output_type": "stream",
     "text": [
      "Voldoet niet\n"
     ]
    }
   ],
   "source": [
    "Mmax = MaxMomentq(14,6)\n",
    "Mtoel = 300\n",
    "\n",
    "if Mmax < Mtoel :\n",
    "    print('Voldoet')\n",
    "else : print('Voldoet niet')\n",
    "    "
   ]
  },
  {
   "cell_type": "markdown",
   "metadata": {},
   "source": [
    "## Elif statement\n",
    "Er kunnen ook meerder if statements in één worden samengevoegd. \n",
    "In het voorbeeld wordt eerts een package geimporteerd om random getallen te generen. Vervolgens worden twee voorwaarden gesteld waarover een print stement wordt uitgeroepen. Je kunt uiteraard ook ander functies gebruiken binnn de voorwaarde."
   ]
  },
  {
   "cell_type": "code",
   "execution_count": 6,
   "metadata": {},
   "outputs": [
    {
     "name": "stdout",
     "output_type": "stream",
     "text": [
      "9\n",
      "getal voldoet aan de voorwaarde\n"
     ]
    }
   ],
   "source": [
    "import random\n",
    "getal = random.randint(1, 15) # er wordt tussen de 1 en 15 een random geheel getal gegenereerd \n",
    "            #we toetsen of het getal tussen de 5 en 10 ligt.\n",
    "\n",
    "print (getal)\n",
    " \n",
    "if getal >= 11:\n",
    "    print('getal ligt buiten de range')\n",
    "elif getal >= 6: \n",
    "    print('getal voldoet aan de voorwaarde')\n",
    "else:\n",
    "    print('getal is buiten de range')\n",
    "    "
   ]
  },
  {
   "cell_type": "code",
   "execution_count": null,
   "metadata": {},
   "outputs": [],
   "source": []
  },
  {
   "cell_type": "markdown",
   "metadata": {},
   "source": [
    "### Opdracht\n",
    "Schrijf zelf één of meerdere voorwaarden voor een toetsing van de functie die je hebt gedefineieerd."
   ]
  },
  {
   "cell_type": "code",
   "execution_count": null,
   "metadata": {},
   "outputs": [],
   "source": []
  },
  {
   "cell_type": "markdown",
   "metadata": {},
   "source": [
    "## While loops\n",
    "Om een stuk code met verschillende parameters (bijvoorbeeld tijd) te herhalen is het mogelijk om loops in te bouwen. Dit kan met for en while loops.\n"
   ]
  },
  {
   "cell_type": "code",
   "execution_count": 7,
   "metadata": {},
   "outputs": [
    {
     "name": "stdout",
     "output_type": "stream",
     "text": [
      "1\n",
      "2\n",
      "3\n",
      "4\n",
      "5\n"
     ]
    }
   ],
   "source": [
    "i = 1\n",
    "while i < 6:\n",
    "  print(i)\n",
    "  i = i+1\n",
    "    "
   ]
  },
  {
   "cell_type": "markdown",
   "metadata": {},
   "source": [
    "Het reusltaat van de while loop is een reeks getallen waarbij alleen de uitkomst van de laatste iteratie als variabele wordt opgeslagen. In dit voorbeeld i. Als we deze variabelen per iteratie later als reeks willen gebruiken moeten we voor iedere iteratie in de while loop de uitkomst vastleggen in een list []"
   ]
  },
  {
   "cell_type": "code",
   "execution_count": 8,
   "metadata": {},
   "outputs": [],
   "source": [
    "Q = 10 # debiet m3/sec\n",
    "t = 1\n",
    "\n",
    "Volumelist = []\n",
    "while t < 10 :\n",
    "    t= t+1\n",
    "    V = Q*t\n",
    "    Volumelist.append(V)"
   ]
  },
  {
   "cell_type": "code",
   "execution_count": 9,
   "metadata": {},
   "outputs": [
    {
     "data": {
      "text/plain": [
       "[20, 30, 40, 50, 60, 70, 80, 90, 100]"
      ]
     },
     "execution_count": 9,
     "metadata": {},
     "output_type": "execute_result"
    }
   ],
   "source": [
    "Volumelist"
   ]
  },
  {
   "cell_type": "markdown",
   "metadata": {},
   "source": [
    "Deze list kunnen we vervolgens met mathplotlib bijvoorbeeld weer plotten in eeng grafiek"
   ]
  },
  {
   "cell_type": "code",
   "execution_count": 11,
   "metadata": {},
   "outputs": [
    {
     "name": "stdout",
     "output_type": "stream",
     "text": [
      "['Solarize_Light2', '_classic_test_patch', '_mpl-gallery', '_mpl-gallery-nogrid', 'bmh', 'classic', 'dark_background', 'fast', 'fivethirtyeight', 'ggplot', 'grayscale', 'seaborn-v0_8', 'seaborn-v0_8-bright', 'seaborn-v0_8-colorblind', 'seaborn-v0_8-dark', 'seaborn-v0_8-dark-palette', 'seaborn-v0_8-darkgrid', 'seaborn-v0_8-deep', 'seaborn-v0_8-muted', 'seaborn-v0_8-notebook', 'seaborn-v0_8-paper', 'seaborn-v0_8-pastel', 'seaborn-v0_8-poster', 'seaborn-v0_8-talk', 'seaborn-v0_8-ticks', 'seaborn-v0_8-white', 'seaborn-v0_8-whitegrid', 'tableau-colorblind10']\n"
     ]
    },
    {
     "data": {
      "text/plain": [
       "Text(0, 0.5, 'Debiet')"
      ]
     },
     "execution_count": 11,
     "metadata": {},
     "output_type": "execute_result"
    },
    {
     "data": {
      "image/png": "[encoded data removed]",
      "text/plain": [
       "<Figure size 800x550 with 1 Axes>"
      ]
     },
     "metadata": {},
     "output_type": "display_data"
    }
   ],
   "source": [
    "import matplotlib.pyplot as plt\n",
    "plotstyles = plt.style.available #Door dit commando worden alle beschikbare plotstyles in een lijst weergegeven\n",
    "print(plotstyles) \n",
    "\n",
    "plt.style.use(plotstyles[11]) #Door dit commando wordt het plotstyle 11 (seaborn-v0_8) geactiveerd   \n",
    "# andere plotstyles kun je vinden op : https://matplotlib.org/gallery/style_sheets/style_sheets_reference.html\n",
    "\n",
    "plt.plot(Volumelist, 'g')\n",
    "plt.xlabel('tijd')\n",
    "plt.ylabel('Debiet')"
   ]
  },
  {
   "cell_type": "markdown",
   "metadata": {},
   "source": [
    "## For loops\n",
    "Vergelijkbaar met while loops zijn For loops. In onderstaande voorbeeld is een For loop voor een vergelijkbare casus.\n"
   ]
  },
  {
   "cell_type": "code",
   "execution_count": 12,
   "metadata": {},
   "outputs": [
    {
     "data": {
      "text/plain": [
       "Text(0, 0.5, 'Debiet')"
      ]
     },
     "execution_count": 12,
     "metadata": {},
     "output_type": "execute_result"
    },
    {
     "data": {
      "image/png": "[encoded data removed]",
      "text/plain": [
       "<Figure size 800x550 with 1 Axes>"
      ]
     },
     "metadata": {},
     "output_type": "display_data"
    }
   ],
   "source": [
    "Q = 10 # debiet m3/sec\n",
    "tt = range(1,20)\n",
    "\n",
    "Volumelist2 = []\n",
    "for a in tt :\n",
    "    a = a+1\n",
    "    V2 = Q*a\n",
    "    Volumelist2.append(V2)\n",
    "    \n",
    "# omdat mathplotlib.pyplot hiervoor al is geimporteerd kan het hier weer gebruikt worden.\n",
    "    \n",
    "plt.plot(Volumelist2, '--g', linewidth=3)\n",
    "plt.xlabel('tijd')\n",
    "plt.ylabel('Debiet')"
   ]
  },
  {
   "cell_type": "markdown",
   "metadata": {},
   "source": [
    "### Opdracht\n",
    "Maak een while of for statement voor een tijdsafhankelijke formule en plot de uitkomsten in een grafiek met een rode streepstiplijn."
   ]
  },
  {
   "cell_type": "code",
   "execution_count": null,
   "metadata": {},
   "outputs": [],
   "source": []
  },
  {
   "cell_type": "code",
   "execution_count": null,
   "metadata": {},
   "outputs": [],
   "source": []
  }
 ],
 "metadata": {
  "kernelspec": {
   "display_name": "Python 3 (ipykernel)",
   "language": "python",
   "name": "python3"
  },
  "language_info": {
   "codemirror_mode": {
    "name": "ipython",
    "version": 3
   },
   "file_extension": ".py",
   "mimetype": "text/x-python",
   "name": "python",
   "nbconvert_exporter": "python",
   "pygments_lexer": "ipython3",
   "version": "3.12.4"
  }
 },
 "nbformat": 4,
 "nbformat_minor": 4
}
