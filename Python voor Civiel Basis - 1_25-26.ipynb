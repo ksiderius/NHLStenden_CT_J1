{
 "cells": [
  {
   "cell_type": "markdown",
   "metadata": {},
   "source": [
    "<figure>\n",
    "  <IMG SRC=\"https://dataexcellence.nl/wp-content/uploads/2019/01/NHL-Hogeschool-tile.png\" width=160 ALIGN=\"right\">\n",
    "</figure>\n",
    "<figure>    \n",
    "    <IMG SRC=\"https://logodownload.org/wp-content/uploads/2019/10/python-logo-2.png\" width=80 ALIGN=\"right\">\n",
    "</figure>\n",
    "\n",
    "# Python voor Civiel Basis cursus - 1\n",
    "*Ontwikkeld door Freark van der Sluis*\n",
    "\n",
    "Python is een veelzijdige en toegankelijke programmeertaal, ontwikkeld in de jaren negentig. Door de intuïtieve opzet en het gebruikmaken van inspringing (indentatie) is Python gemakkelijk te begrijpen en te leren door mensen met weinig of geen programmeerkennis. Python is gratis, kan worden gebruikt op bijna elk platform en maakt gebruik van vele soorten bibliotheken en gegevensbestanden. Hierdoor, en door het oneindig grote aantal toepassingsmogelijkheden, is Python uitgegroeid tot één van de meest gebruikte programmeertalen voor onder meer installatiescripts en prototypes bij grote applicaties. \n",
    "\n",
    "Binnen de civiele techniek wordt Python als taal gebruikt in verschillende toepassingen zoals:\n",
    "- Data analyse en visualisatie;\n",
    "- repetatieve berekeningen automatiseren; \n",
    "- parameters genereren voor parametrisch ontwerp. \n",
    "\n",
    "Vaak wordt python gebruikt samen met andere software en wordt in Python data ingelezen verwerkt en geexporteerd.\n",
    "\n",
    "In deze basis cursus leer je de basis van de taal doormiddel van voorbeelden en oefeningen kennen en toepassen. \n",
    "\n",
    "Iedere stap in de cursus kun je activeren door op de run button te drukken die je in bovenstaande ribbon vindt of maak gebruik van de sneltoets shift+enter."
   ]
  },
  {
   "cell_type": "markdown",
   "metadata": {},
   "source": [
    "# Variabelen\n",
    "\n",
    "Programmeren is het schrijven van een computerprogramma, een concrete reeks instructies die een computer uitvoert. Dit begint met het vastleggen van variabelen. Deze variabelen kun je ververvolgens in het 'script' gebruiken om te bewerken. In het voorbeeld hieronder zijn de variabelen getallen van het type int. (integers) \n",
    "\n",
    "Door onderstaande regel te runnen worden de variabelen opgeslagen en kun je in de vervolgcode bewerkinge uitvoeren met deze variabelen. Als verderop in de code variablen opnieuw worden gedefinieerd worden de 'oude' variabelen overschreven. denk dus goed na over de naamgeving van de variabelen.\n",
    "\n",
    "Run onderstaande regel door met de cursor in de regel te gaan staan en shift+enter in te drukken."
   ]
  },
  {
   "cell_type": "code",
   "execution_count": 3,
   "metadata": {},
   "outputs": [],
   "source": [
    "a = 1\n",
    "b = 2\n",
    "c = a+b"
   ]
  },
  {
   "cell_type": "markdown",
   "metadata": {},
   "source": [
    "In een variabele wordt dus informatie vastgelegd. Vervolgens kan deze informatie via een functie worden verwerkt tot output. Bijvoorbeeld de functie print (c) geeft het resultaat weer van de variabele c. "
   ]
  },
  {
   "cell_type": "code",
   "execution_count": 4,
   "metadata": {},
   "outputs": [
    {
     "name": "stdout",
     "output_type": "stream",
     "text": [
      "3\n"
     ]
    }
   ],
   "source": [
    "print (c)"
   ]
  },
  {
   "cell_type": "markdown",
   "metadata": {},
   "source": [
    "## Operatoren\n",
    "Je kunt 'operatoren' toevoegen om een verband tussen de variabele te leggen zoals bijvoorbeeld: \n",
    "- *:voor een vermenigvuldiging\n",
    "- / voor een deling\n",
    "- ** voor machtverheffen **2 = kwadraat **3 = derde macht\n",
    "\n",
    "Ook kun je operatoren gebruiken om een toets uit te voeren\n",
    "- a == b geeft de waarde False\n",
    "- b > a geeft de waarde True\n",
    "\n",
    "Een overzicht van operatoren vind je op : https://www.tutorialspoint.com/python/python_basic_operators.htm\n",
    "\n",
    "Het is gebruikelijk om variabelen en operatoren te scheiden door een spatie."
   ]
  },
  {
   "cell_type": "code",
   "execution_count": 5,
   "metadata": {},
   "outputs": [
    {
     "data": {
      "text/plain": [
       "(False, True)"
      ]
     },
     "execution_count": 5,
     "metadata": {},
     "output_type": "execute_result"
    }
   ],
   "source": [
    "a == b, b > a"
   ]
  },
  {
   "cell_type": "markdown",
   "metadata": {},
   "source": [
    "### Opdracht : \n",
    "Probeer in onderstaande regel andere bewerking met de variabelen a en b uit. Door de bewerkingen te scheiden met een komma kun je meerdere bewerkingn in een regel testen. "
   ]
  },
  {
   "cell_type": "code",
   "execution_count": null,
   "metadata": {},
   "outputs": [],
   "source": []
  },
  {
   "cell_type": "markdown",
   "metadata": {},
   "source": [
    "Variabelen kunnen ook uit 'strings' bestaan. Dit is een collectie van tekens (characters). Een teken is een letter, nummer, symbool, enz. en kan gebruikt worden om letterlijk allerlei soorten informatie op te slaan. Meestal wordt een string gebruikt voor het opslaan van een tekstvorm."
   ]
  },
  {
   "cell_type": "code",
   "execution_count": 6,
   "metadata": {},
   "outputs": [],
   "source": [
    "d = 'fiets'\n",
    "e = 'bel'\n",
    "f = d+e"
   ]
  },
  {
   "cell_type": "code",
   "execution_count": 7,
   "metadata": {},
   "outputs": [
    {
     "name": "stdout",
     "output_type": "stream",
     "text": [
      "fietsbel\n"
     ]
    }
   ],
   "source": [
    "print (f)"
   ]
  },
  {
   "cell_type": "code",
   "execution_count": 8,
   "metadata": {},
   "outputs": [
    {
     "name": "stdout",
     "output_type": "stream",
     "text": [
      "31.25 kNm\n"
     ]
    }
   ],
   "source": [
    "# Nog een voorbeeld\n",
    "# Door met hashtag te werken kun je een deel van je code als uitleg gebruiken\n",
    "\n",
    "q = 10           # Gelijkmatig verdeelde belasting\n",
    "l = 5            # Lengte van een ligger\n",
    "M = 1/8 * q * l**2   # **2 staat voor kwadraat\n",
    "print (M, 'kNm') # tussen aanhalingstekens kun je karakters toevoegen aan je print, ze zijn geen onderdeel van de geprinte variabele.\n"
   ]
  },
  {
   "cell_type": "markdown",
   "metadata": {},
   "source": [
    "In een print functie kun je ook aan vullende tekst printen zoals in dit geval de eenheid. Hiervoor gebruik je een komma en de string die je wilt toevoegen moet tussen aanhalingstekens.\n",
    "\n",
    "### Opdracht : \n",
    "Definieer de variabelen en print de uitkomst om de maxiamle dwarskracht te kunnen berekenen in een ligger op twee steunpunten belast met een q- last."
   ]
  },
  {
   "cell_type": "code",
   "execution_count": null,
   "metadata": {},
   "outputs": [],
   "source": []
  },
  {
   "cell_type": "markdown",
   "metadata": {},
   "source": [
    "# Types\n",
    "Zoals hierboven al even beschreven zijn er verschillende Types variabelen.\n",
    "\n",
    "- integers = gehele getallen\n",
    "- strings = caracters kunnen ook getallen zijn maar dan zonder waarde\n",
    "- floats = getallen met een decimale punt\n",
    "- booleans = True of False, Booleans representeren data die alleen het één of het ander kan zijn.\n",
    "- lists = in list kun je groepen data opslaan, een reeks getallen een aantal woorden.\n",
    "\n",
    "Het type van een variable kun je opvragen met de functie type."
   ]
  },
  {
   "cell_type": "code",
   "execution_count": 9,
   "metadata": {},
   "outputs": [
    {
     "data": {
      "text/plain": [
       "int"
      ]
     },
     "execution_count": 9,
     "metadata": {},
     "output_type": "execute_result"
    }
   ],
   "source": [
    "type(q) # hier wordt het type op gevraagd van q die als variabele is gedefinieerd in de vergelijking van het moment"
   ]
  },
  {
   "cell_type": "markdown",
   "metadata": {},
   "source": [
    "Je kunt oop het type wijzigen door een variabele te definieren als nieuwe variabele waar je het type van definieerd in de functie."
   ]
  },
  {
   "cell_type": "code",
   "execution_count": 10,
   "metadata": {},
   "outputs": [
    {
     "name": "stdout",
     "output_type": "stream",
     "text": [
      "10.0\n"
     ]
    }
   ],
   "source": [
    "Q = float(q)\n",
    "print(Q)"
   ]
  },
  {
   "cell_type": "code",
   "execution_count": 11,
   "metadata": {},
   "outputs": [
    {
     "data": {
      "text/plain": [
       "str"
      ]
     },
     "execution_count": 11,
     "metadata": {},
     "output_type": "execute_result"
    }
   ],
   "source": [
    "woord = \"civiel\"\n",
    "type(woord) # geeft als output een str = string. Dit kun je niet wijzigen"
   ]
  },
  {
   "cell_type": "code",
   "execution_count": 12,
   "metadata": {},
   "outputs": [],
   "source": [
    "Getal = \"1200\""
   ]
  },
  {
   "cell_type": "markdown",
   "metadata": {},
   "source": [
    "### Opdracht: \n",
    "Vraag van bovenstaande variabele het type op en wijzig het naar float."
   ]
  },
  {
   "cell_type": "code",
   "execution_count": null,
   "metadata": {},
   "outputs": [],
   "source": [
    "\n"
   ]
  },
  {
   "cell_type": "markdown",
   "metadata": {},
   "source": [
    "Variabelen kunnen worden gedefineerd maar kunnen ook als input worden gevraagd aan de gebruiker met de functie input. Let  op!! de 'input' geeft input van het type str als je hier mee wilt rekenen moet je er dus een float van maken.\n",
    "\n",
    "Input moet bevestigd worden met enter!"
   ]
  },
  {
   "cell_type": "code",
   "execution_count": 13,
   "metadata": {},
   "outputs": [
    {
     "name": "stdin",
     "output_type": "stream",
     "text": [
      "Wat is uw lengte in cm? 10\n"
     ]
    },
    {
     "name": "stdout",
     "output_type": "stream",
     "text": [
      "10.0 cm\n"
     ]
    }
   ],
   "source": [
    "Lengte = float(input('Wat is uw lengte in cm?'))\n",
    "\n",
    "print (Lengte, 'cm')"
   ]
  },
  {
   "cell_type": "markdown",
   "metadata": {},
   "source": [
    "Vervolgens kun je met deze variabele verder rekenen."
   ]
  },
  {
   "cell_type": "code",
   "execution_count": 14,
   "metadata": {},
   "outputs": [
    {
     "name": "stdin",
     "output_type": "stream",
     "text": [
      "Wat is uw gewicht in kg? 10\n"
     ]
    },
    {
     "name": "stdout",
     "output_type": "stream",
     "text": [
      "Uw BMI is 999.9999999999998\n"
     ]
    }
   ],
   "source": [
    "Gewicht = float(input('Wat is uw gewicht in kg?'))\n",
    "\n",
    "BMI = (Gewicht / ((Lengte/100)**2))\n",
    "\n",
    "print ('Uw BMI is', BMI)"
   ]
  },
  {
   "cell_type": "markdown",
   "metadata": {},
   "source": [
    "### Opdracht :\n",
    "Genereer zelf een aantal variabelen door input te vragen van de gebruiker. Doe hier een bewerking op en print de uitkomst."
   ]
  },
  {
   "cell_type": "code",
   "execution_count": null,
   "metadata": {},
   "outputs": [],
   "source": []
  },
  {
   "cell_type": "markdown",
   "metadata": {},
   "source": [
    "# IDE & packages\n",
    "\n",
    "Je kunt Python in diverse IDE's schrijven, kladblok, notepad++, IDLE. Wij gebruiken bij deze cursus de Jupyther notebook. Python bied de mogelijkheid om met verschillende IDE's gebruik te maken van environments waarin standaard een groot antal packages zijn geinstalleerd.\n",
    "\n",
    "Packages zijn applicaties die je binnen Python aan kunt roepen met een commando. Deze packages moeten dan wel eerst geinstallerd zijn.\n",
    "\n",
    "Packages activeren doe je met : 'import (naam van de package) as (naam zoals je code wilt oproepen). Vaak wordt er een korte naam voor het aanroepen van een fucntie uit de package gekozen. Als je geen naam kiest moet je de gehele naam van de package gebruiken.\n",
    "\n",
    "Nieuwe packages kun je installeren via de WinPython prompt, dit wordt later nog behandeld.\n",
    "\n",
    "Door onderstaande regel te runnen worden binnen de environment in Jupyther Notebook 2 veel gebruikte packages geladen.\n",
    "\n",
    "Ga dus met je cursor in onderstaande veld  staan met import.... en druk op de knop run (shift enter). Er gebeurt niks maar in het vervolg van het notebook heb je nu bepaalde functies geactiveerd."
   ]
  },
  {
   "cell_type": "code",
   "execution_count": 15,
   "metadata": {},
   "outputs": [],
   "source": [
    "import matplotlib.pyplot as plt  # Voor visualiseren van data\n",
    "import numpy as np # Voor wiskundige functies"
   ]
  },
  {
   "cell_type": "markdown",
   "metadata": {},
   "source": [
    "## Numpy en matplotlib\n"
   ]
  },
  {
   "cell_type": "markdown",
   "metadata": {},
   "source": [
    "Laten we nu van de package numpy een paar functies testen. Alle functies die je binnen de numpy package kunt gebruiken vind je op : https://docs.scipy.org/doc/numpy-1.13.0/reference/routines.math.html "
   ]
  },
  {
   "cell_type": "code",
   "execution_count": 16,
   "metadata": {},
   "outputs": [
    {
     "name": "stdout",
     "output_type": "stream",
     "text": [
      "5.0\n"
     ]
    }
   ],
   "source": [
    "a = np.sqrt(25)\n",
    "print (a) # Let op! Vanaf nu is in dit notebook a dus geen 1 meer zoals gedefinieerd in lijn 2 maar 5."
   ]
  },
  {
   "cell_type": "code",
   "execution_count": 17,
   "metadata": {},
   "outputs": [
    {
     "name": "stdout",
     "output_type": "stream",
     "text": [
      "1.0\n"
     ]
    }
   ],
   "source": [
    "b = np.sin(1/2*(np.pi))\n",
    "print (b)"
   ]
  },
  {
   "cell_type": "markdown",
   "metadata": {},
   "source": [
    "### Opdracht :  \n",
    "Probeer zelf een variabele op basis van een wiskundige formule te definiëren en print de uitkomst."
   ]
  },
  {
   "cell_type": "code",
   "execution_count": null,
   "metadata": {},
   "outputs": [],
   "source": []
  },
  {
   "cell_type": "markdown",
   "metadata": {},
   "source": [
    "Om een plot te maken van een functie zal voor verschillende punten de waarde van een fromule moeten worden berekend. Numpy is hiervoor een handig package en is hiervoor al geimporterrd als np.\n",
    "\n",
    "Met np.arrange wordt voor de variabel t met de arange functie uit de numpy package een list gemaakt met de getallen van -10 tot en met +10 in stapjes van 1. \n",
    "\n",
    "Voor iedere waarde van t wordt vervolgens een lijst gemaakt op basis van de uitkomst van de functie gedefineers als s."
   ]
  },
  {
   "cell_type": "code",
   "execution_count": 18,
   "metadata": {},
   "outputs": [
    {
     "name": "stdout",
     "output_type": "stream",
     "text": [
      "[-10  -9  -8  -7  -6  -5  -4  -3  -2  -1   0   1   2   3   4   5   6   7\n",
      "   8   9  10]\n",
      "[100  81  64  49  36  25  16   9   4   1   0   1   4   9  16  25  36  49\n",
      "  64  81 100]\n"
     ]
    }
   ],
   "source": [
    "t = np.arange(-10, 11, 1) \n",
    "s = t**2\n",
    "print (t)\n",
    "print (s)"
   ]
  },
  {
   "cell_type": "markdown",
   "metadata": {},
   "source": [
    "Met de matplotlib pakage worden nu de plotfuncties gebruikt om de grafiek te presenteren waarbij t en s de variabelen zijn."
   ]
  },
  {
   "cell_type": "code",
   "execution_count": 19,
   "metadata": {},
   "outputs": [
    {
     "data": {
      "image/png": "[encoded data removed]",
      "text/plain": [
       "<Figure size 640x480 with 1 Axes>"
      ]
     },
     "metadata": {},
     "output_type": "display_data"
    }
   ],
   "source": [
    "grafiek = plt.plot(t,s) \n",
    "plt.show(grafiek)  "
   ]
  },
  {
   "cell_type": "markdown",
   "metadata": {},
   "source": [
    "De eigenschappen van de plot kunnen worden aangepast als variabelen achter (t,s,....)"
   ]
  },
  {
   "cell_type": "code",
   "execution_count": 20,
   "metadata": {},
   "outputs": [
    {
     "data": {
      "image/png": "[encoded data removed]",
      "text/plain": [
       "<Figure size 640x480 with 1 Axes>"
      ]
     },
     "metadata": {},
     "output_type": "display_data"
    }
   ],
   "source": [
    "plt.plot(t, s, 'r--', -t, -s, 'bs', t, s, 'g^', ms = 5) \n",
    "plt.show()"
   ]
  },
  {
   "cell_type": "markdown",
   "metadata": {},
   "source": [
    "Hier boven worden drie functies met verschillende eigenschappen over elkaar geplot. Waarbij in de variabelen nog wijzigingen in de functie kunnen worden aangepast  b.v. het minteken draait de parabool om. \n",
    "#Maar alle operators kunnen hier worden toegepast. +, -, *, **, etc.\n",
    "\n",
    "#Andere veel gebruikte eigenschappen die je kunt toepassen zijn:\n",
    " - linewidth :  getal\n",
    " - linestyle :  -, --, -.,:\n",
    " - marker : '+'  ','  '.'  '1'  '2'  '3'  '4' \n",
    " - markersize of ms : ms = getal"
   ]
  },
  {
   "cell_type": "markdown",
   "metadata": {},
   "source": [
    "### Opdracht : \n",
    "Definieer zelf variabelen voor een wiskundige functie over een gedefinieerd bereik en plot de bijbehorende grafiek met verschillende opmaak."
   ]
  },
  {
   "cell_type": "code",
   "execution_count": null,
   "metadata": {},
   "outputs": [],
   "source": []
  },
  {
   "cell_type": "code",
   "execution_count": null,
   "metadata": {},
   "outputs": [],
   "source": []
  },
  {
   "cell_type": "code",
   "execution_count": null,
   "metadata": {},
   "outputs": [],
   "source": []
  },
  {
   "cell_type": "code",
   "execution_count": null,
   "metadata": {},
   "outputs": [],
   "source": []
  },
  {
   "cell_type": "code",
   "execution_count": null,
   "metadata": {},
   "outputs": [],
   "source": []
  },
  {
   "cell_type": "code",
   "execution_count": null,
   "metadata": {},
   "outputs": [],
   "source": []
  },
  {
   "cell_type": "code",
   "execution_count": null,
   "metadata": {},
   "outputs": [],
   "source": []
  },
  {
   "cell_type": "code",
   "execution_count": null,
   "metadata": {},
   "outputs": [],
   "source": []
  }
 ],
 "metadata": {
  "kernelspec": {
   "display_name": "Python 3 (ipykernel)",
   "language": "python",
   "name": "python3"
  },
  "language_info": {
   "codemirror_mode": {
    "name": "ipython",
    "version": 3
   },
   "file_extension": ".py",
   "mimetype": "text/x-python",
   "name": "python",
   "nbconvert_exporter": "python",
   "pygments_lexer": "ipython3",
   "version": "3.12.4"
  }
 },
 "nbformat": 4,
 "nbformat_minor": 4
}
